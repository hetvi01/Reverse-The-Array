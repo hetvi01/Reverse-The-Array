{
 "cells": [
  {
   "cell_type": "code",
   "execution_count": 2,
   "id": "chemical-inclusion",
   "metadata": {},
   "outputs": [],
   "source": [
    "a=[5,11,9,8,6,12]\n",
    "n=len(a)"
   ]
  },
  {
   "cell_type": "markdown",
   "id": "improved-lawrence",
   "metadata": {},
   "source": [
    "### 1st approach"
   ]
  },
  {
   "cell_type": "code",
   "execution_count": 2,
   "id": "preliminary-habitat",
   "metadata": {},
   "outputs": [
    {
     "name": "stdout",
     "output_type": "stream",
     "text": [
      "[12, 6, 8, 9, 11, 5]\n"
     ]
    }
   ],
   "source": [
    "print(a[::-1])"
   ]
  },
  {
   "cell_type": "markdown",
   "id": "vocational-rough",
   "metadata": {},
   "source": [
    "### 2nd approach"
   ]
  },
  {
   "cell_type": "code",
   "execution_count": 13,
   "id": "metric-mixture",
   "metadata": {},
   "outputs": [
    {
     "name": "stdout",
     "output_type": "stream",
     "text": [
      "[12, 6, 8, 9, 11, 5]\n"
     ]
    }
   ],
   "source": [
    "reversed_array=[]\n",
    "for i in range(n-1,-1,-1):\n",
    "    reversed_array.append(a[i])\n",
    "print(reversed_array)\n",
    "\n",
    "## o(n)"
   ]
  },
  {
   "cell_type": "markdown",
   "id": "current-lyric",
   "metadata": {},
   "source": [
    "### 3rd approach   ##### iterative"
   ]
  },
  {
   "cell_type": "code",
   "execution_count": 3,
   "id": "sexual-anatomy",
   "metadata": {},
   "outputs": [
    {
     "data": {
      "text/plain": [
       "[12, 6, 8, 9, 11, 5]"
      ]
     },
     "execution_count": 3,
     "metadata": {},
     "output_type": "execute_result"
    }
   ],
   "source": [
    "\n",
    "def reverseArray(a,start,end):\n",
    "    while start<end:\n",
    "        a[start],a[end]=a[end],a[start]\n",
    "        start+=1\n",
    "        end-=1\n",
    "    return a\n",
    "reverseArray(a,0,n-1)\n",
    "\n",
    "## O(n/2)\n",
    "        "
   ]
  },
  {
   "cell_type": "markdown",
   "id": "western-howard",
   "metadata": {},
   "source": [
    "### 4 th approach recursive"
   ]
  },
  {
   "cell_type": "code",
   "execution_count": null,
   "id": "adaptive-ambassador",
   "metadata": {},
   "outputs": [],
   "source": [
    "\n"
   ]
  },
  {
   "cell_type": "code",
   "execution_count": null,
   "id": "biblical-pennsylvania",
   "metadata": {},
   "outputs": [],
   "source": []
  }
 ],
 "metadata": {
  "kernelspec": {
   "display_name": "Python 3",
   "language": "python",
   "name": "python3"
  },
  "language_info": {
   "codemirror_mode": {
    "name": "ipython",
    "version": 3
   },
   "file_extension": ".py",
   "mimetype": "text/x-python",
   "name": "python",
   "nbconvert_exporter": "python",
   "pygments_lexer": "ipython3",
   "version": "3.8.2"
  }
 },
 "nbformat": 4,
 "nbformat_minor": 5
}
